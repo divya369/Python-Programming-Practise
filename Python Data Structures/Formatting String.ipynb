{
 "cells": [
  {
   "cell_type": "code",
   "execution_count": 1,
   "metadata": {},
   "outputs": [],
   "source": [
    "name = \"Divya\""
   ]
  },
  {
   "cell_type": "code",
   "execution_count": 2,
   "metadata": {},
   "outputs": [
    {
     "name": "stdout",
     "output_type": "stream",
     "text": [
      "My name is Divya\n"
     ]
    }
   ],
   "source": [
    "# old ways before python 3.6\n",
    "\n",
    "print(\"My name is {0}\".format(name))"
   ]
  },
  {
   "cell_type": "code",
   "execution_count": 4,
   "metadata": {},
   "outputs": [
    {
     "name": "stdout",
     "output_type": "stream",
     "text": [
      "My name is Divya\n"
     ]
    }
   ],
   "source": [
    "# New way for formatting string : 'F-string'\n",
    "\n",
    "print(f\"My name is {name}\")"
   ]
  },
  {
   "cell_type": "code",
   "execution_count": 6,
   "metadata": {},
   "outputs": [
    {
     "name": "stdout",
     "output_type": "stream",
     "text": [
      "From Dictionary : d['a'] = divya\n"
     ]
    }
   ],
   "source": [
    "# Dictionary\n",
    "d = {'a':'divya', 'b':'blue', 'num' : 369}\n",
    "print(f\"From Dictionary : d['a'] = {d['a']}\")"
   ]
  },
  {
   "cell_type": "code",
   "execution_count": 7,
   "metadata": {},
   "outputs": [
    {
     "name": "stdout",
     "output_type": "stream",
     "text": [
      "My school name is AVM\n"
     ]
    }
   ],
   "source": [
    "# List \n",
    "l = (35,\"AVM\")\n",
    "print(f\"My school name is {l[1]}\")"
   ]
  },
  {
   "cell_type": "code",
   "execution_count": 8,
   "metadata": {},
   "outputs": [
    {
     "data": {
      "text/plain": [
       "[('Author', 'Topic', 'Pages'),\n",
       " ('Divya', 'Sprituality', '500'),\n",
       " ('Shyam', 'Swamini Vato', 3690),\n",
       " ('Robin Sharma', 'Megaliving', 359)]"
      ]
     },
     "execution_count": 8,
     "metadata": {},
     "output_type": "execute_result"
    }
   ],
   "source": [
    "library = [('Author','Topic','Pages'),('Divya','Sprituality','500'),('Shyam','Swamini Vato',3690),('Robin Sharma','Megaliving',359)]\n",
    "library"
   ]
  },
  {
   "cell_type": "code",
   "execution_count": 18,
   "metadata": {},
   "outputs": [
    {
     "name": "stdout",
     "output_type": "stream",
     "text": [
      "Author            Topic           Pages  \n",
      "Divya             Sprituality     500    \n",
      "Shyam             Swamini Vato    3690   \n",
      "Robin Sharma      Megaliving      359    \n"
     ]
    }
   ],
   "source": [
    "# WE are using 'Tuple unpacking' to extract author, topic and pages\n",
    "# There should be no spaces between colon and curly brackets\n",
    "\n",
    "for author, topic, pages in library:\n",
    "    print(f\"{author:{17}} {topic:{15}} {pages:<{7}}\")"
   ]
  },
  {
   "cell_type": "code",
   "execution_count": 19,
   "metadata": {},
   "outputs": [],
   "source": [
    "from datetime import datetime"
   ]
  },
  {
   "cell_type": "code",
   "execution_count": 20,
   "metadata": {},
   "outputs": [
    {
     "data": {
      "text/plain": [
       "datetime.datetime(2019, 4, 7, 0, 0)"
      ]
     },
     "execution_count": 20,
     "metadata": {},
     "output_type": "execute_result"
    }
   ],
   "source": [
    "today = datetime(year=2019, month=4, day=7)\n",
    "today"
   ]
  },
  {
   "cell_type": "code",
   "execution_count": 21,
   "metadata": {},
   "outputs": [
    {
     "name": "stdout",
     "output_type": "stream",
     "text": [
      "2019-04-07 00:00:00\n"
     ]
    }
   ],
   "source": [
    "print(f\"{today}\")"
   ]
  },
  {
   "cell_type": "code",
   "execution_count": 23,
   "metadata": {},
   "outputs": [
    {
     "name": "stdout",
     "output_type": "stream",
     "text": [
      "April 07, 2019\n"
     ]
    }
   ],
   "source": [
    "# strftime.org\n",
    "\n",
    "print(f\"{today:%B %d, %Y}\")"
   ]
  }
 ],
 "metadata": {
  "kernelspec": {
   "display_name": "Python 3",
   "language": "python",
   "name": "python3"
  },
  "language_info": {
   "codemirror_mode": {
    "name": "ipython",
    "version": 3
   },
   "file_extension": ".py",
   "mimetype": "text/x-python",
   "name": "python",
   "nbconvert_exporter": "python",
   "pygments_lexer": "ipython3",
   "version": "3.6.5"
  }
 },
 "nbformat": 4,
 "nbformat_minor": 2
}
